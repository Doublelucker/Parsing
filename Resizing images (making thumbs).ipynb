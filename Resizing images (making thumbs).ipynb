{
 "cells": [
  {
   "cell_type": "code",
   "execution_count": null,
   "metadata": {
    "collapsed": true
   },
   "outputs": [],
   "source": [
    "import os\n",
    "import PIL\n",
    "from PIL import Image\n",
    "import shutil\n",
    "import pandas as pd\n",
    "from distutils.dir_util import copy_tree\n",
    "import json"
   ]
  },
  {
   "cell_type": "code",
   "execution_count": null,
   "metadata": {
    "collapsed": false
   },
   "outputs": [],
   "source": [
    "#перемещение картинок со всех сайтов в одну папку\n",
    "all_dirs = []\n",
    "for root, dirs, files in os.walk('..\\Pics'):\n",
    "    if len(root.split('\\\\')) == 5:\n",
    "        splitted_root = root.split('\\\\')\n",
    "        new_root = '..\\Pictures\\\\' + splitted_root[-1]\n",
    "        #shutil.move(\"%s\"%root, \"%s\"%new_root)\n",
    "        copy_tree(\"%s\"%root, \"%s\"%new_root)        "
   ]
  },
  {
   "cell_type": "code",
   "execution_count": null,
   "metadata": {
    "collapsed": false
   },
   "outputs": [],
   "source": [
    "#создание списков ID из таблицы и mongodbID с json\n",
    "table = pd.read_excel(\"~\\Downloads\\Telegram Desktop\\db3.xlsx\")\n",
    "data = []\n",
    "for line in open(\"data_dump.json\", 'r', encoding=\"utf8\"):\n",
    "    data.append(json.loads(line))\n",
    "unique_IDs = []\n",
    "for line in data:\n",
    "    unique_IDs.append(line['_id']['$oid'])    \n",
    "IDs = table['ID'].astype(str).tolist()\n",
    "newIDs = []\n",
    "for ID in IDs:\n",
    "    newIDs.append(ID.replace('.0',''))"
   ]
  },
  {
   "cell_type": "code",
   "execution_count": null,
   "metadata": {
    "collapsed": false
   },
   "outputs": [],
   "source": [
    "#Создание папок с mongodbID и перемещение туда картинок (доп. замена всех jpeg на jpg, я посмотрел, это я только в нгс так делаю, поэтому просто в парсинге поправить в следующий раз надо и все)\n",
    "for ID, unique_ID in zip(newIDs, unique_IDs):\n",
    "    if os.path.isdir(\"..\\Pictures\\\\%s\"%ID):\n",
    "        copy_tree(\"..\\Pictures\\\\%s\"%ID, \"..\\Pictures\\\\Unique\\\\%s\"%unique_ID)\n",
    "        \n",
    "for root, dirs, files in os.walk('..\\Pictures\\\\Unique'):\n",
    "    #print (root)\n",
    "    for file in files:\n",
    "        #os.chdir(root)\n",
    "        if 'jpeg' in file:\n",
    "            os.rename(\"%s\\%s\"%(root, file), \"%s\\%s\"%(root, file.replace('jpeg','jpg')))"
   ]
  },
  {
   "cell_type": "code",
   "execution_count": null,
   "metadata": {
    "collapsed": false
   },
   "outputs": [],
   "source": [
    "#создание thumbs\n",
    "basewidth = 75\n",
    "basewidth1 = 230\n",
    "basewidth2 = 180\n",
    "for root, dirs, files in os.walk('../Pictures//Unique'):\n",
    "    if root != '../Pictures//Unique':\n",
    "        if ('tm' not in ''.join(files)) or ('t' not in ''.join(files)):\n",
    "            for name in files:\n",
    "                img = Image.open('%s/%s'%(root, name)).convert('RGB')\n",
    "                split_name = name.split('.')\n",
    "                new_name = '.'.join([split_name[0]+'t',split_name[1]])\n",
    "                new_name1 = '.'.join([split_name[0]+'_tm',split_name[1]])\n",
    "                img = img.resize((basewidth, basewidth), PIL.Image.ANTIALIAS)\n",
    "                img1 = img.resize((basewidth1, basewidth2), PIL.Image.ANTIALIAS)\n",
    "                quality_val = 100\n",
    "                quality_val1 = 97\n",
    "                img.save('%s/%s'%(root, new_name), 'JPEG', quality = quality_val)\n",
    "                img1.save('%s/%s'%(root, new_name1), 'JPEG', quality = quality_val1)"
   ]
  }
 ],
 "metadata": {
  "anaconda-cloud": {},
  "kernelspec": {
   "display_name": "Python [conda env:py35]",
   "language": "python",
   "name": "conda-env-py35-py"
  },
  "language_info": {
   "codemirror_mode": {
    "name": "ipython",
    "version": 3
   },
   "file_extension": ".py",
   "mimetype": "text/x-python",
   "name": "python",
   "nbconvert_exporter": "python",
   "pygments_lexer": "ipython3",
   "version": "3.5.2"
  }
 },
 "nbformat": 4,
 "nbformat_minor": 1
}
